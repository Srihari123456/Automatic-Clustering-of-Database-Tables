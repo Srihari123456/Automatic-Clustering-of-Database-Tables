{
 "cells": [
  {
   "cell_type": "code",
   "execution_count": 1,
   "id": "b26c8b2c",
   "metadata": {},
   "outputs": [],
   "source": [
    "import pickle\n",
    "import os\n",
    "import numpy as np"
   ]
  },
  {
   "cell_type": "code",
   "execution_count": 2,
   "id": "b1a4c943",
   "metadata": {},
   "outputs": [
    {
     "name": "stdout",
     "output_type": "stream",
     "text": [
      "\u001b[34m__pycache__\u001b[m\u001b[m                  test_set.csv\r\n",
      "data_included_train_list.pkl test_token_list.pkl\r\n",
      "encoded_labels.npy           tokenizer.py\r\n",
      "preprocessing.py             train_list.pkl\r\n",
      "test_indices.npy             train_token_list.pkl\r\n",
      "test_list.pkl\r\n"
     ]
    }
   ],
   "source": [
    "! ls ../Module-1"
   ]
  },
  {
   "cell_type": "code",
   "execution_count": 3,
   "id": "0e9e78b9",
   "metadata": {},
   "outputs": [
    {
     "name": "stdout",
     "output_type": "stream",
     "text": [
      "<class 'list'>\n",
      "2809\n",
      "dycd after school programs teen action programs program type program site name borough community agency contact number grade level age group address postcode latitude longitude community board council district census tract bin bbl nta after school programs teen action program community school for social justice x 427 bronx citizens advice bureau inc 718 293 727 ext 204 13 to 21 350 gerard avenue 10451 40 815938 73 930386 1 0 8 0 63 0 2001027 0 2023440096 0 west concourse after school programs teen action program franklin k lane high school brooklyn directions for our youth inc 212 362 4020 13 to 21 999 jamaica avenue 11208 40 691146 73 868328 5 0 37 0 1180 0 3090738 0 3040940001 0 park cemetery etc brooklyn after school programs teen action program is 136 charles o dewey brooklyn sco family of services 718 633 4823 13 to 21 4004 fourth avenue 11232 40 651977 74 6862 7 0 38 0 82 0 3010580 0 3007130020 0 sunset park west after school programs teen action program albert shanker school for visual and performing arts queens jacob a riis neighborhood settlement inc 718 204 6797 13 to 21 31 51 21 st street 11101 40 766264 73 930709 1 0 22 0 77 0 4006382 0 4005530001 0 astoria after school programs teen action program frederick douglass center new york the children s aid society 212 865 6337 13 to 21 885 columbus avenue 10025 40 797762 73 963944 7 0 7 0 189 0 1081301 0 1018360001 0 upper west side after school programs teen action program high school for global citizenship brooklyn hospital audiences inc 212 575 7670 ext 251 13 to 21 883 classon avenue 11203 40 670349 73 961695 9 0 35 0 213 0 3029686 0 3011870001 0 crown heights south after school programs teen action program tasc p is 218 r hernandez dual lang x 218 bronx women s housing and economic development corporation whedco 718 839 1100 13 to 21 1220 gerard avenue 10452 40 835847 73 920026 4 0 16 0 197 0 2097130 0 2024800008 0 west concourse after school programs teen action program ps 214 bronx phipps community development corporation 718 542 109 13 to 21 1970 west farms road 10460 40 839565 73 880358 6 0 17 0 60 0 2094603 0 2030210038 0 crotona park east after school programs teen action program jhs 162 lola rodriguez de tio x 162 bronx sports and arts in schools foundation inc 347 417 8159 13 to 21 600 saint anns avenue 10455 40 815498 73 91224 1 0 17 0 73 0 2004314 0 2026160001 0 melrose south mott haven north after school programs teen action program jhs 220 john j pershing brooklyn chinese american planning council 718 358 8899 ext 131 13 to 21 4812 ninth avenue 11220 40 640545 74 731 12 0 38 0 108 0 3012824 0 3007780023 0 sunset park east after school programs teen action program dunlevy milbank center new york the children s aid society 212 996 1716 13 to 21 14 32 west 118 street 10026 40 802278 73 946257 10 0 9 0 190 0 1051435 0 1016010018 0 central harlem south after school programs teen action program el puente academy for peace and justice k 685 brooklyn el puente academy k 718 387 404 13 to 21 211 south 4 street 11211 40 710686 73 959655 1 0 34 0 523 0 3063295 0 3024330001 0 north side south side after school programs teen action program south jamaica multi service center queens national council for negro women of greater new york 718 657 8585 13 to 21 114 2 guy r brewer 11434 after school programs teen action program is 285 meyer levin brooklyn sports and arts in schools foundation 718 451 2200 ext 107 or 973 896 1246 13 to 21 5909 beverly road 11203 40 646877 73 920977 17 0 45 0 936 0 3104599 0 3047440001 0 rugby remsen village after school programs teen action program michell community center bronx east side house inc 718 665 5250 ext 111 13 to 21 205 willis avenue 10454 40 808109 73 923629 1 0 8 0 23 0 mott haven port morris after school programs teen action program be er hagolah institutes brooklyn be er hagolah institutes 718 642 6800 ext 101 13 to 21 671 louisiana avenue 11239 40 645638 73 883643 5 0 42 0 105804 0 3339160 0 3044520080 0 starrett city after school programs teen action program jhs 318 eugenio maria hostos brooklyn sports and arts in schools foundation 718 230 5400 13 to 21 101 walton street 11206 40 7025 73 948869 1 0 33 0 509 0 3061328 0 3022460001 0 williamsburg after school programs teen action program ps 18 john g whittier r 18 staten island united activities unlimited inc 718 448 477 13 to 21 221 broadway 10310 40 636587 74 117509 1 0 49 0 105 0 5004877 0 5001760010 0 new brighton silver lake after school programs teen action program pathways college preparatory school a college board school queens sports and arts in schools foundation inc 718 454 5097 13 to 21 109 89 204 street 11412 40 70646 73 753579 12 0 27 0 508 0 4234318 0 4109440301 0 hollis after school programs teen action program is 27 anning s prall r 27 staten island sports and arts in schools foundation inc 347 417 8161 13 to 21 11 clove lake place 10310 40 628169 74 116997 1 0 49 0 125 0 5008403 0 5003080001 0 west new brighton new brighton st george after school programs teen action program new settlement apartments bronx new settlement apartments 718 716 8000 ext 116 13 to 21 1512 townsend avenue 10452 40 842478 73 914915 4 0 14 0 209 0 2092057 0 2028450007 0 west concourse after school programs teen action program i s 238 susan b anthony q 238 queens sports and arts in schools foundation inc 347 417 8161 13 to 21 88 15 182 street 11423 40 713094 73 780468 12 0 27 0 470 0 4212425 0 4099190006 0 jamaica after school programs teen action program jhs 45 john s roberts new york city year inc 646 452 3624 13 to 21 2351 first avenue 10035 40 798884 73 933319 11 0 8 0 194 0 1054786 0 1017970100 0 east harlem north after school programs teen action program riverdale kingsbridge academy ms hs 141 bronx riverdale community center 718 796 4724 13 to 21 660 west 237 th street 10463 40 888338 73 913486 8 0 11 0 309 0 2085870 0 2059180376 0 north riverdale fieldston riverdale after school programs teen action program is 219 new venture school x 219 bronx directions for our youth inc 212 362 4020 13 to 21 3630 third avenue 10456 40 833511 73 90449 3 0 16 0 14701 0 2009611 0 2029250001 0 claremont bathgate after school programs teen action program jhs 72 catherine and count basie queens the child center of ny 718 322 4953 13 to 21 133 25 guy r brewer boulevard 11434 40 673769 73 775951 12 0 28 0 33402 0 4270059 0 4124950270 0 springfield gardens north after school programs teen action program jhs 151 lou gehrig x 151 bronx sports and arts in schools foundation inc 347 417 8167 13 to 21 250 east 156 street 10451 40 82316 73 921631 4 0 17 0 61 0 2002458 0 2024430190 0 east concourse concourse village after school programs teen action program ms 210 queens zeta zeta lambda company inc 718 484 3693 or 917 541 3317 13 to 21 93 11 101 st avenue 11416 40 683858 73 84747 9 0 32 0 38 0 4188567 0 4090670001 0 woodhaven after school programs teen action program ps 198 isador e ida straus new york stanley m isaacs neighborhood center inc 212 360 7625 ext 10 13 to 21 1700 third avenue 10128 40 784826 73 949611 8 0 5 0 15801 0 1048492 0 1015240023 0 upper east side carnegie hill\n",
      "<class 'str'>\n"
     ]
    }
   ],
   "source": [
    "# Read pickle file into variable dataset\n",
    "\n",
    "path = os.path.join(\"../Module-1\", \"data_included_train_list.pkl\")\n",
    "with open(path, 'rb') as f:\n",
    "    dataset = pickle.load(f)\n",
    "print(type(dataset))\n",
    "print(len(dataset))\n",
    "print(dataset[0])\n",
    "print(type(dataset[0]))"
   ]
  },
  {
   "cell_type": "code",
   "execution_count": 4,
   "id": "99919f60",
   "metadata": {},
   "outputs": [
    {
     "name": "stdout",
     "output_type": "stream",
     "text": [
      "<class 'numpy.ndarray'>\n"
     ]
    },
    {
     "data": {
      "text/plain": [
       "array([ 0,  2,  9, 10,  2,  1,  1,  2,  3,  3])"
      ]
     },
     "execution_count": 4,
     "metadata": {},
     "output_type": "execute_result"
    }
   ],
   "source": [
    "path = os.path.join(\"../Module-1\", \"encoded_labels.npy\")\n",
    "labels = np.load(path, allow_pickle=False)\n",
    "print(type(labels))\n",
    "labels[:10]"
   ]
  },
  {
   "cell_type": "code",
   "execution_count": 5,
   "id": "63a23c1d",
   "metadata": {},
   "outputs": [],
   "source": [
    "from collections import defaultdict\n",
    "from time import time\n",
    "\n",
    "from sklearn import metrics"
   ]
  },
  {
   "cell_type": "code",
   "execution_count": 6,
   "id": "fc8e3949",
   "metadata": {},
   "outputs": [],
   "source": [
    "evaluations = []\n",
    "evaluations_std = []\n",
    "\n",
    "\n",
    "def fit_and_evaluate(km, X, name=None, n_runs=5):\n",
    "    name = km.__class__.__name__ if name is None else name\n",
    "    \n",
    "    train_times = []\n",
    "    scores = defaultdict(list)\n",
    "    for seed in range(n_runs):\n",
    "        if km.__class__.__name__ == \"KMeans\":\n",
    "            km.set_params(random_state=seed)\n",
    "        t0 = time()\n",
    "        km.fit(X)\n",
    "        train_times.append(time() - t0)\n",
    "\n",
    "        scores[\"V-measure\"].append(metrics.v_measure_score(labels, km.labels_[test_indices]))\n",
    "        scores[\"Adjusted Rand-Index\"].append(metrics.adjusted_rand_score(labels, km.labels_[test_indices]))\n",
    "        scores[\"Rand-Index\"].append(metrics.rand_score(labels, km.labels_[test_indices]))\n",
    "        scores[\"Silhouette Coefficient\"].append(metrics.silhouette_score(X[test_indices], km.labels_[test_indices])) #, sample_size=2000\n",
    "\n",
    "    train_times = np.asarray(train_times)\n",
    "\n",
    "    print(f\"clustering done in {train_times.mean():.2f} ± {train_times.std():.2f} s \")\n",
    "    evaluation = {\n",
    "        \"estimator\": name,\n",
    "        \"train_time\": train_times.mean(),\n",
    "    }\n",
    "    evaluation_std = {\n",
    "        \"estimator\": name,\n",
    "        \"train_time\": train_times.std(),\n",
    "    }\n",
    "    for score_name, score_values in scores.items():\n",
    "        mean_score, std_score = np.mean(score_values), np.std(score_values)\n",
    "        print(f\"{score_name}: {mean_score:.3f} ± {std_score:.3f}\")\n",
    "        evaluation[score_name] = mean_score\n",
    "        evaluation_std[score_name] = std_score\n",
    "    evaluations.append(evaluation)\n",
    "    evaluations_std.append(evaluation_std)"
   ]
  },
  {
   "cell_type": "code",
   "execution_count": 7,
   "id": "9251b28f",
   "metadata": {},
   "outputs": [],
   "source": [
    "import matplotlib.pyplot as plt\n",
    "from sklearn import manifold\n",
    "from matplotlib import ticker"
   ]
  },
  {
   "cell_type": "code",
   "execution_count": 8,
   "id": "12dadce8",
   "metadata": {},
   "outputs": [],
   "source": [
    "def plot_2d(points, title):\n",
    "    fig, ax = plt.subplots(figsize=(3, 3), facecolor=\"white\", constrained_layout=True)\n",
    "    fig.suptitle(title, size=16)\n",
    "    add_2d_scatter(ax, points)\n",
    "    plt.show()\n",
    "    \n",
    "def add_2d_scatter(ax, points, title=None):\n",
    "    x, y = points.T\n",
    "    ax.scatter(x, y, s=50, alpha=0.8)\n",
    "    ax.set_title(title)\n",
    "    ax.xaxis.set_major_formatter(ticker.NullFormatter())\n",
    "    ax.yaxis.set_major_formatter(ticker.NullFormatter())"
   ]
  },
  {
   "cell_type": "markdown",
   "id": "f3f13dfb",
   "metadata": {},
   "source": [
    "# Using TfidfVectorizer"
   ]
  },
  {
   "cell_type": "code",
   "execution_count": 9,
   "id": "404c7acf",
   "metadata": {},
   "outputs": [],
   "source": [
    "from sklearn.feature_extraction.text import TfidfVectorizer"
   ]
  },
  {
   "cell_type": "code",
   "execution_count": 10,
   "id": "f69c3960",
   "metadata": {},
   "outputs": [
    {
     "name": "stdout",
     "output_type": "stream",
     "text": [
      "vectorization done in 35.684 s\n",
      "n_samples: 2809, n_features: 244851\n",
      "Quantifying the sparsity: 0.005\n"
     ]
    }
   ],
   "source": [
    "vectorizer = TfidfVectorizer(\n",
    "    max_df=0.5,\n",
    "    min_df=5,\n",
    "    stop_words=\"english\",\n",
    ")\n",
    "t0 = time()\n",
    "X_tfidf = vectorizer.fit_transform(dataset)\n",
    "\n",
    "print(f\"vectorization done in {time() - t0:.3f} s\")\n",
    "print(f\"n_samples: {X_tfidf.shape[0]}, n_features: {X_tfidf.shape[1]}\")\n",
    "print(f\"Quantifying the sparsity: {X_tfidf.nnz / np.prod(X_tfidf.shape):.3f}\")"
   ]
  },
  {
   "cell_type": "code",
   "execution_count": 11,
   "id": "3dce6e3e",
   "metadata": {},
   "outputs": [],
   "source": [
    "path = os.path.join(\"../Module-1\", \"test_indices.npy\")\n",
    "test_indices = np.load(path, allow_pickle=False)"
   ]
  },
  {
   "cell_type": "code",
   "execution_count": 12,
   "id": "d83841a5",
   "metadata": {},
   "outputs": [
    {
     "data": {
      "text/plain": [
       "(100, 244851)"
      ]
     },
     "execution_count": 12,
     "metadata": {},
     "output_type": "execute_result"
    }
   ],
   "source": [
    "X_tfidf_test = X_tfidf[test_indices]\n",
    "X_tfidf_test.shape"
   ]
  },
  {
   "cell_type": "code",
   "execution_count": 12,
   "id": "5fc4efd1",
   "metadata": {},
   "outputs": [],
   "source": [
    "n_components = 2"
   ]
  },
  {
   "cell_type": "code",
   "execution_count": 13,
   "id": "636edc50",
   "metadata": {},
   "outputs": [
    {
     "name": "stdout",
     "output_type": "stream",
     "text": [
      "(100, 2)\n"
     ]
    },
    {
     "data": {
      "image/png": "[encoded data removed]",
      "text/plain": [
       "<Figure size 300x300 with 1 Axes>"
      ]
     },
     "metadata": {},
     "output_type": "display_data"
    }
   ],
   "source": [
    "md_scaling = manifold.MDS(\n",
    "    n_components=n_components,\n",
    "    max_iter=50,\n",
    "    n_init=4,\n",
    "    random_state=0,\n",
    "    normalized_stress=False,\n",
    ")\n",
    "S_scaling = md_scaling.fit_transform(X_tfidf_test.toarray())\n",
    "print(S_scaling.shape)\n",
    "\n",
    "plot_2d(S_scaling, \"Multidimensional scaling\")"
   ]
  },
  {
   "cell_type": "code",
   "execution_count": 14,
   "id": "27b835fc",
   "metadata": {},
   "outputs": [
    {
     "name": "stdout",
     "output_type": "stream",
     "text": [
      "(100, 2)\n"
     ]
    },
    {
     "data": {
      "image/png": "[encoded data removed]",
      "text/plain": [
       "<Figure size 300x300 with 1 Axes>"
      ]
     },
     "metadata": {},
     "output_type": "display_data"
    }
   ],
   "source": [
    "n_neighbors = 12\n",
    "spectral = manifold.SpectralEmbedding(\n",
    "    n_components=n_components, n_neighbors=n_neighbors, random_state=42\n",
    ")\n",
    "S_spectral = spectral.fit_transform(X_tfidf_test.toarray())\n",
    "print(S_spectral.shape)\n",
    "plot_2d(S_spectral, \"Spectral Embedding\")"
   ]
  },
  {
   "cell_type": "code",
   "execution_count": 15,
   "id": "765b406b",
   "metadata": {},
   "outputs": [
    {
     "name": "stdout",
     "output_type": "stream",
     "text": [
      "(100, 2)\n"
     ]
    },
    {
     "data": {
      "image/png": "[encoded data removed]",
      "text/plain": [
       "<Figure size 300x300 with 1 Axes>"
      ]
     },
     "metadata": {},
     "output_type": "display_data"
    }
   ],
   "source": [
    "t_sne = manifold.TSNE(\n",
    "    n_components=n_components,\n",
    "    perplexity=30,\n",
    "    init=\"random\",\n",
    "    n_iter=250,\n",
    "    random_state=0\n",
    ")\n",
    "data_t_sne = t_sne.fit_transform(X_tfidf_test)\n",
    "print(data_t_sne.shape)\n",
    "\n",
    "plot_2d(data_t_sne, \"T-distributed Stochastic  \\n Neighbor Embedding\")"
   ]
  },
  {
   "cell_type": "code",
   "execution_count": 13,
   "id": "5a987983",
   "metadata": {},
   "outputs": [],
   "source": [
    "from sklearn.cluster import KMeans, AgglomerativeClustering\n",
    "true_k = 11"
   ]
  },
  {
   "cell_type": "code",
   "execution_count": 32,
   "id": "9f6302fb",
   "metadata": {},
   "outputs": [
    {
     "name": "stdout",
     "output_type": "stream",
     "text": [
      "clustering done in 7.28 ± 1.25 s \n",
      "V-measure: 0.282 ± 0.005\n",
      "Adjusted Rand-Index: 0.008 ± 0.019\n",
      "Silhouette Coefficient: 0.073 ± 0.009\n"
     ]
    }
   ],
   "source": [
    "kmeans = KMeans(                  # Can use MiniBatchKMeans if needed\n",
    "    n_clusters=true_k,\n",
    "    n_init=5,\n",
    ")\n",
    "\n",
    "fit_and_evaluate(kmeans, X_tfidf, name=\"KMeans\\nwith tf-idf vectors\")"
   ]
  },
  {
   "cell_type": "code",
   "execution_count": 14,
   "id": "14b5f623",
   "metadata": {},
   "outputs": [],
   "source": [
    "from sklearn.neighbors import kneighbors_graph\n",
    "knn_graph = kneighbors_graph(X_tfidf, 30, include_self=False, metric = 'cosine')"
   ]
  },
  {
   "cell_type": "code",
   "execution_count": null,
   "id": "3bc2b097",
   "metadata": {},
   "outputs": [],
   "source": [
    "agg = AgglomerativeClustering(linkage=\"complete\", n_clusters=true_k, metric = \"cosine\", connectivity=knn_graph)\n",
    "fit_and_evaluate(agg, X_tfidf.toarray(), name=\"Agglomerative clustering\\nwith tf-idf vectors\")"
   ]
  },
  {
   "cell_type": "code",
   "execution_count": 14,
   "id": "e86ceda3",
   "metadata": {},
   "outputs": [
    {
     "name": "stdout",
     "output_type": "stream",
     "text": [
      "LSA done in 9.634 s\n",
      "Previous shape: (2809, 244851)\n",
      "New shape: (2809, 100)\n",
      "Explained variance of the SVD step: 52.6%\n"
     ]
    }
   ],
   "source": [
    "# Performing dimensionality reduction using LSA\n",
    "\n",
    "from sklearn.decomposition import TruncatedSVD\n",
    "from sklearn.pipeline import make_pipeline\n",
    "from sklearn.preprocessing import Normalizer\n",
    "\n",
    "lsa = make_pipeline(TruncatedSVD(n_components=100), Normalizer(copy=False))\n",
    "t0 = time()\n",
    "X_lsa = lsa.fit_transform(X_tfidf)\n",
    "explained_variance = lsa[0].explained_variance_ratio_.sum()\n",
    "\n",
    "print(f\"LSA done in {time() - t0:.3f} s\")\n",
    "print(\"Previous shape:\", X_tfidf.shape)\n",
    "print(\"New shape:\", X_lsa.shape)\n",
    "print(f\"Explained variance of the SVD step: {explained_variance * 100:.1f}%\")"
   ]
  },
  {
   "cell_type": "code",
   "execution_count": 15,
   "id": "741806f0",
   "metadata": {},
   "outputs": [
    {
     "name": "stdout",
     "output_type": "stream",
     "text": [
      "clustering done in 0.30 ± 0.12 s \n",
      "V-measure: 0.333 ± 0.023\n",
      "Adjusted Rand-Index: 0.061 ± 0.027\n",
      "Rand-Index: 0.747 ± 0.007\n",
      "Silhouette Coefficient: 0.124 ± 0.016\n"
     ]
    }
   ],
   "source": [
    "kmeans = KMeans(                  # Can use MiniBatchKMeans if needed\n",
    "    n_clusters=true_k,\n",
    "    #max_iter=100,\n",
    "    n_init=5,\n",
    ")\n",
    "fit_and_evaluate(kmeans, X_lsa, name=\"KMeans\\nwith LSA on tf-idf vectors\")"
   ]
  },
  {
   "cell_type": "code",
   "execution_count": 16,
   "id": "c1d0aa04",
   "metadata": {},
   "outputs": [],
   "source": [
    "from sklearn.neighbors import kneighbors_graph\n",
    "knn_graph = kneighbors_graph(X_lsa, 30, include_self=False, metric = 'cosine')"
   ]
  },
  {
   "cell_type": "code",
   "execution_count": 17,
   "id": "915c01d5",
   "metadata": {},
   "outputs": [
    {
     "name": "stdout",
     "output_type": "stream",
     "text": [
      "clustering done in 0.56 ± 0.44 s \n",
      "V-measure: 0.235 ± 0.000\n",
      "Adjusted Rand-Index: 0.032 ± 0.000\n",
      "Rand-Index: 0.701 ± 0.000\n",
      "Silhouette Coefficient: -0.012 ± 0.000\n"
     ]
    }
   ],
   "source": [
    "agg = AgglomerativeClustering(linkage=\"complete\", n_clusters=true_k, metric = \"cosine\", connectivity=knn_graph)\n",
    "fit_and_evaluate(agg, X_lsa, name=\"Agglomerative clustering\\nwith LSA on tf-idf vectors\")"
   ]
  },
  {
   "cell_type": "code",
   "execution_count": 24,
   "id": "031b0c5e",
   "metadata": {},
   "outputs": [
    {
     "name": "stdout",
     "output_type": "stream",
     "text": [
      "Cluster 0: agency plan name data fy mmr description goal open date \n",
      "Cluster 1: location report dbn category district administrative school 2018 name enrollment \n",
      "Cluster 2: year percent total of by rate count program month dfta \n",
      "Cluster 3: name city the borough geom id boro code new of \n",
      "Cluster 4: school discharge dbn students category code reporting 2015 name enrolled \n",
      "Cluster 5: size class of number level classes average students program grade \n",
      "Cluster 6: community board bin nta council tract latitude longitude census bbl \n",
      "Cluster 7: shape geom area the leng boro code name feat id \n",
      "Cluster 8: date id type number name status description permit street code \n",
      "Cluster 9: grade scale tested mean score results test 2006 number math \n",
      "Cluster 10: cohort pct regents graduation num grads advanced all outcomes demographic \n"
     ]
    }
   ],
   "source": [
    "# Top terms per cluster: \n",
    "# Since TfidfVectorizer can be inverted we can identify the cluster centers,\n",
    "# which provide an intuition of the most influential words for each cluster.\n",
    "original_space_centroids = lsa[0].inverse_transform(kmeans.cluster_centers_)\n",
    "order_centroids = original_space_centroids.argsort()[:, ::-1]\n",
    "terms = vectorizer.get_feature_names_out()\n",
    "\n",
    "for i in range(true_k):\n",
    "    print(f\"Cluster {i}: \", end=\"\")\n",
    "    for ind in order_centroids[i, :10]:\n",
    "        print(f\"{terms[ind]} \", end=\"\")\n",
    "    print()"
   ]
  },
  {
   "cell_type": "markdown",
   "id": "7aec82d7",
   "metadata": {},
   "source": [
    "# Alternative vectorization using HashingVectorizer"
   ]
  },
  {
   "cell_type": "code",
   "execution_count": 28,
   "id": "887607e9",
   "metadata": {},
   "outputs": [
    {
     "name": "stdout",
     "output_type": "stream",
     "text": [
      "vectorization done in 27.932 s\n"
     ]
    }
   ],
   "source": [
    "from sklearn.feature_extraction.text import HashingVectorizer, TfidfTransformer\n",
    "\n",
    "lsa_vectorizer = make_pipeline(\n",
    "    HashingVectorizer(n_features=50_000),      # stop_words=\"english\", \n",
    "    TfidfTransformer(),                                        # For IDF weighting\n",
    "    TruncatedSVD(n_components=100, random_state=0),\n",
    "    Normalizer(copy=False),\n",
    ")\n",
    "\n",
    "t0 = time()\n",
    "X_hashed_lsa = lsa_vectorizer.fit_transform(dataset)\n",
    "print(f\"vectorization done in {time() - t0:.3f} s\")"
   ]
  },
  {
   "cell_type": "code",
   "execution_count": 29,
   "id": "332fad53",
   "metadata": {},
   "outputs": [
    {
     "name": "stdout",
     "output_type": "stream",
     "text": [
      "clustering done in 0.23 ± 0.06 s \n",
      "V-measure: 0.286 ± 0.011\n",
      "Adjusted Rand-Index: 0.030 ± 0.011\n",
      "Silhouette Coefficient: 0.149 ± 0.009\n"
     ]
    }
   ],
   "source": [
    "kmeans = KMeans(                  # Can use MiniBatchKMeans if needed\n",
    "    n_clusters=true_k,\n",
    "    #max_iter=100,\n",
    "    n_init=5,\n",
    ")\n",
    "fit_and_evaluate(kmeans, X_hashed_lsa, name=\"KMeans\\nwith LSA on hashed vectors\")"
   ]
  },
  {
   "cell_type": "code",
   "execution_count": 30,
   "id": "eff35c8a",
   "metadata": {},
   "outputs": [
    {
     "name": "stdout",
     "output_type": "stream",
     "text": [
      "clustering done in 1.31 ± 2.01 s \n",
      "V-measure: 0.306 ± 0.000\n",
      "Adjusted Rand-Index: 0.023 ± 0.000\n",
      "Silhouette Coefficient: 0.123 ± 0.000\n"
     ]
    }
   ],
   "source": [
    "knn_graph = kneighbors_graph(X_hashed_lsa, 30, include_self=False)\n",
    "agg = AgglomerativeClustering(linkage=\"ward\", n_clusters=true_k, metric = \"euclidean\", connectivity=knn_graph)\n",
    "fit_and_evaluate(agg, X_hashed_lsa, name=\"Agglomerative clustering\\nwith LSA on hashed vectors\")"
   ]
  },
  {
   "cell_type": "markdown",
   "id": "4f846265",
   "metadata": {},
   "source": [
    "# Using word embedding vectors"
   ]
  },
  {
   "cell_type": "code",
   "execution_count": 28,
   "id": "13614576",
   "metadata": {},
   "outputs": [
    {
     "name": "stdout",
     "output_type": "stream",
     "text": [
      "sentence_transformer_embeddings.py\r\n",
      "test_doc_vectors.npy\r\n",
      "test_doc_vectors_glove_wiki_gigaword_100_bpemb_vs_200000.npy\r\n",
      "test_doc_vectors_glove_wiki_gigaword_50_bpemb_vs_200000.npy\r\n",
      "test_sentence_transformer_embeddings.npy\r\n",
      "train_doc_vectors.npy\r\n",
      "train_doc_vectors_glove_wiki_gigaword_100_bpemb_vs_200000.npy\r\n",
      "train_doc_vectors_glove_wiki_gigaword_50_bpemb_vs_200000.npy\r\n",
      "train_sentence_transformer_embeddings.npy\r\n",
      "word_embeddings.py\r\n"
     ]
    }
   ],
   "source": [
    "! ls ../Module-2"
   ]
  },
  {
   "cell_type": "code",
   "execution_count": 18,
   "id": "a22553a6",
   "metadata": {},
   "outputs": [
    {
     "name": "stdout",
     "output_type": "stream",
     "text": [
      "<class 'numpy.ndarray'>\n",
      "(2809, 384)\n",
      "[ 2.69797188e-03 -5.19918539e-02 -3.21922861e-02 -3.66439559e-02\n",
      " -3.27955000e-02 -1.11898910e-02 -2.67021153e-02  3.17897499e-02\n",
      " -8.18883032e-02  8.21707398e-03  7.24862665e-02 -2.63631810e-02\n",
      " -5.17615527e-02 -2.10739039e-02  2.30604503e-02  6.59911260e-02\n",
      "  6.09889627e-02  3.96482088e-02  3.15523073e-02 -5.27093336e-02\n",
      "  5.65894395e-02  9.45328847e-02  5.31358123e-02  3.59515212e-02\n",
      " -6.24792203e-02  3.97300050e-02  7.20094144e-03 -2.55051348e-02\n",
      " -7.58659318e-02  3.00773904e-02  5.66068478e-02  6.74549639e-02\n",
      "  1.28676683e-01  1.96742490e-02  1.35647714e-01  7.80227631e-02\n",
      "  7.97612965e-03  8.34375843e-02 -7.32849771e-03 -1.61791667e-02\n",
      " -1.08737826e-01 -6.78261509e-03  2.09313482e-02  3.08867805e-02\n",
      " -5.73488846e-02 -2.72179078e-02 -9.71776918e-02 -2.20429264e-02\n",
      "  4.64309454e-02  2.83704372e-03  7.70525113e-02 -3.21180634e-02\n",
      "  4.92347032e-02  2.26366017e-02 -4.83488441e-02  3.24978530e-02\n",
      " -3.48599777e-02  5.32583222e-02  2.00906936e-02 -5.44446670e-02\n",
      " -4.01891842e-02  1.14843145e-01 -8.26006159e-02 -6.48816768e-03\n",
      " -2.08877074e-03  2.43553935e-04  1.05261737e-02 -4.56644921e-03\n",
      "  8.93249810e-02 -1.50696233e-01 -4.26140800e-02 -4.40154374e-02\n",
      " -3.06081008e-02 -1.43496683e-02  1.71805825e-02 -2.43897620e-03\n",
      "  1.25493493e-03 -1.21737672e-02  6.57069832e-02 -7.50573725e-02\n",
      " -1.57123804e-02  4.10030745e-02  5.50774112e-02  7.09194541e-02\n",
      " -5.71586601e-02  4.37223502e-02 -9.11753178e-02  4.69317706e-03\n",
      "  6.48941426e-03 -4.10799012e-02  4.32626605e-02  3.53171825e-02\n",
      " -1.03721432e-02  2.99576093e-02 -8.23176578e-02 -4.81165126e-02\n",
      "  5.12234084e-02 -7.85821751e-02  3.19060148e-03  7.21553862e-02\n",
      "  1.75952911e-02 -7.29881898e-02 -6.59675971e-02  2.85328180e-03\n",
      " -9.78295803e-02 -6.70161769e-02  9.72629711e-02  1.36702312e-02\n",
      " -3.68872695e-02  5.74928485e-02  9.61581245e-04 -3.21490765e-02\n",
      " -1.03197657e-02 -7.30090356e-03  7.21031278e-02 -6.50083572e-02\n",
      "  1.35430116e-02  1.02229081e-01  6.69725761e-02 -1.07694589e-01\n",
      " -2.06543952e-02  9.24697146e-03  2.81381942e-02 -5.06246276e-02\n",
      "  1.68655124e-02 -3.69948335e-02  2.53769998e-02  1.33142676e-32\n",
      "  6.26385957e-02  3.76022495e-02  1.23033570e-02  1.49483914e-02\n",
      " -4.00171615e-02 -1.92751195e-02  5.86442314e-02  3.50636132e-02\n",
      " -2.56389864e-02  1.34726856e-02 -1.56846493e-02 -3.84204164e-02\n",
      " -2.24579182e-02 -2.40823608e-02  1.13401318e-03  6.91215135e-03\n",
      " -1.50077129e-02 -3.05037061e-03  6.13389118e-03  6.29299507e-02\n",
      "  1.52480118e-02 -5.82009461e-03 -1.02392510e-02  4.35888059e-02\n",
      "  2.06409302e-02 -2.06081625e-02 -6.67593777e-02  1.27618033e-02\n",
      "  4.02892642e-02  3.98822874e-02 -2.04961598e-02 -9.19551868e-03\n",
      " -8.17809179e-02 -2.29776315e-02  1.25792054e-02  5.63129671e-02\n",
      "  7.74952844e-02 -4.47487198e-02 -2.54995953e-02 -8.18674713e-02\n",
      "  2.71326341e-02 -7.25890510e-03 -2.44723004e-03  7.86163192e-03\n",
      "  6.41650110e-02  6.31289482e-02  5.21537289e-02  4.37811874e-02\n",
      "  4.18254994e-02  3.88408154e-02  2.19723247e-02  4.71211933e-02\n",
      " -9.00487602e-02 -5.59206419e-02 -8.37726519e-02 -6.36015134e-03\n",
      " -1.03521934e-02  2.22089402e-02  4.96233962e-02  1.07038971e-02\n",
      "  7.51582757e-02  4.45077643e-02  5.39117306e-02 -1.29208639e-01\n",
      "  7.93898199e-03 -1.39781550e-01  8.24136136e-04 -8.07036608e-02\n",
      "  1.05853103e-01 -3.45181711e-02 -4.61920127e-02  6.53306302e-03\n",
      "  4.45731655e-02  9.84092504e-02 -8.43718648e-03 -3.54661047e-03\n",
      " -2.06038859e-02 -1.25786299e-02  1.90090407e-02  1.75378267e-02\n",
      "  3.66694443e-02 -4.15101387e-02 -9.42406282e-02 -3.49426121e-02\n",
      "  1.61098361e-01 -1.43653564e-02 -1.38341384e-02 -7.53274709e-02\n",
      " -3.22826393e-02 -4.46786955e-02 -2.03649122e-02 -4.78141867e-02\n",
      " -4.80197854e-02  1.26808167e-01  4.80821319e-02 -1.40786196e-32\n",
      " -2.40544844e-02 -3.42249461e-02 -2.73867361e-02 -5.43189682e-02\n",
      "  3.04333866e-02 -4.07596901e-02 -6.00253753e-02 -5.13812378e-02\n",
      "  1.36200339e-01  3.93608585e-03 -1.91238392e-02 -1.76500492e-02\n",
      " -5.00027053e-02  3.74802612e-02  1.23988781e-02  5.37101068e-02\n",
      " -6.61792532e-02  5.30677252e-02 -6.25090152e-02 -4.23656171e-03\n",
      "  2.08573852e-04 -7.60570960e-03 -8.22671130e-02  2.20753555e-03\n",
      "  8.14786460e-03 -4.82160114e-02  2.41819676e-02  6.99846167e-03\n",
      "  6.18468933e-02  7.60983154e-02  6.42894655e-02 -9.70811024e-03\n",
      " -2.43195780e-02  4.07225415e-02 -8.46169293e-02 -5.84294796e-02\n",
      " -2.52165785e-03 -5.61529286e-02 -7.17940405e-02 -6.30390346e-02\n",
      "  5.21356128e-02  8.30473437e-04 -5.26457727e-02  3.46278176e-02\n",
      " -2.97836401e-02  5.15731722e-02 -2.07126560e-03  2.70833671e-02\n",
      "  1.23114865e-02  2.29575709e-02 -1.86906680e-02 -6.23388775e-02\n",
      "  6.41383678e-02  1.44643560e-02  7.61385411e-02  5.63938580e-02\n",
      "  7.98365325e-02  8.24235827e-02  1.09595014e-02 -4.57090884e-02\n",
      " -9.87281092e-03 -9.01904237e-03 -6.82146847e-02  5.91460988e-02\n",
      "  4.10359055e-02 -7.88508877e-02 -5.12290411e-02 -3.53228562e-02\n",
      " -4.28305678e-02  5.44090476e-03  4.47813869e-02  1.74098052e-02\n",
      " -1.17655406e-02 -6.74769506e-02 -7.36785606e-02 -5.39809316e-02\n",
      "  3.07297707e-02  3.66490632e-02 -6.16381429e-02  8.88511464e-02\n",
      "  5.92213236e-02  4.48181592e-02  2.60298816e-03  6.27696514e-02\n",
      " -4.65037934e-02  1.06333559e-02  9.50263217e-02  1.57843530e-02\n",
      " -4.56096493e-02  3.86851351e-03  3.76678854e-02  1.71076960e-03\n",
      " -6.73991675e-03  1.21329422e-03 -3.54635566e-02 -3.90663395e-08\n",
      "  8.50675777e-02 -1.44842984e-02 -2.46890709e-02  7.36802071e-03\n",
      "  9.62839946e-02  7.51689821e-02 -2.99241301e-02  8.66812393e-02\n",
      "  8.60876404e-03  3.29723619e-02  5.83317876e-02  4.29219306e-02\n",
      " -8.19622353e-02 -7.24223852e-02  6.20037504e-03 -2.21032836e-02\n",
      "  3.41138355e-02 -4.96185310e-02 -6.94029313e-03  2.73139635e-03\n",
      "  1.47545175e-03 -3.49839181e-02 -2.38673780e-02  1.04794251e-02\n",
      " -4.20935638e-02  4.93017584e-03 -1.25687830e-02  2.04775878e-03\n",
      " -1.80037953e-02 -1.72254425e-02  3.03282551e-02 -3.48683633e-02\n",
      "  1.96615830e-02 -6.50110319e-02  1.86269004e-02 -4.78456281e-02\n",
      " -5.18674962e-02  4.03896999e-03  2.03483552e-02 -8.24469402e-02\n",
      " -5.49193136e-02 -5.04448749e-02  3.42890508e-02  2.12250967e-02\n",
      "  1.72850825e-02  8.42488464e-03 -5.06433919e-02 -5.25846295e-02\n",
      "  4.88617420e-02 -9.90700573e-02 -1.41491488e-01 -7.84770474e-02\n",
      " -3.86401382e-03 -2.71668155e-02  3.39693427e-02  5.66858239e-03\n",
      " -6.69075027e-02  4.99807522e-02 -3.07822078e-02 -3.05159688e-02\n",
      "  2.35521663e-02  5.63846156e-02 -8.05084854e-02 -3.02963722e-02]\n"
     ]
    }
   ],
   "source": [
    "path = os.path.join(\"../Module-2\", \"train_sentence_transformer_embeddings.npy\")\n",
    "dataset = np.load(path, allow_pickle=False)\n",
    "print(type(dataset))\n",
    "print(dataset.shape)\n",
    "print(dataset[0])"
   ]
  },
  {
   "cell_type": "code",
   "execution_count": 30,
   "id": "3ceaa75f",
   "metadata": {},
   "outputs": [],
   "source": [
    "n_components = 2"
   ]
  },
  {
   "cell_type": "code",
   "execution_count": 19,
   "id": "a5407231",
   "metadata": {},
   "outputs": [],
   "source": [
    "from sklearn.cluster import KMeans\n",
    "true_k = 11"
   ]
  },
  {
   "cell_type": "code",
   "execution_count": 20,
   "id": "4596186f",
   "metadata": {},
   "outputs": [
    {
     "name": "stdout",
     "output_type": "stream",
     "text": [
      "clustering done in 0.57 ± 0.07 s \n",
      "V-measure: 0.404 ± 0.027\n",
      "Adjusted Rand-Index: 0.158 ± 0.035\n",
      "Rand-Index: 0.778 ± 0.010\n",
      "Silhouette Coefficient: 0.069 ± 0.008\n"
     ]
    }
   ],
   "source": [
    "kmeans = KMeans(                  # Can use MiniBatchKMeans if needed\n",
    "    n_clusters=true_k,\n",
    "    #max_iter=100,\n",
    "    n_init=5,\n",
    ")\n",
    "fit_and_evaluate(kmeans, dataset, name=\"KMeans\\nwith sentence embedding vectors\")   #word"
   ]
  },
  {
   "cell_type": "code",
   "execution_count": 21,
   "id": "b4e5ecd1",
   "metadata": {},
   "outputs": [
    {
     "data": {
      "text/plain": [
       "(2809, 384)"
      ]
     },
     "execution_count": 21,
     "metadata": {},
     "output_type": "execute_result"
    }
   ],
   "source": [
    "dataset.shape"
   ]
  },
  {
   "cell_type": "code",
   "execution_count": 22,
   "id": "4b85c059",
   "metadata": {},
   "outputs": [],
   "source": [
    "from sklearn.neighbors import kneighbors_graph\n",
    "knn_graph = kneighbors_graph(dataset, 30, include_self=False)"
   ]
  },
  {
   "cell_type": "code",
   "execution_count": 23,
   "id": "358a3ed3",
   "metadata": {},
   "outputs": [],
   "source": [
    "from sklearn.cluster import AgglomerativeClustering"
   ]
  },
  {
   "cell_type": "code",
   "execution_count": 24,
   "id": "c71619b7",
   "metadata": {},
   "outputs": [
    {
     "name": "stdout",
     "output_type": "stream",
     "text": [
      "clustering done in 0.57 ± 0.31 s \n",
      "V-measure: 0.412 ± 0.000\n",
      "Adjusted Rand-Index: 0.229 ± 0.000\n",
      "Rand-Index: 0.778 ± 0.000\n",
      "Silhouette Coefficient: 0.052 ± 0.000\n"
     ]
    }
   ],
   "source": [
    "agg = AgglomerativeClustering(linkage=\"ward\", n_clusters=true_k, metric = \"euclidean\", connectivity=knn_graph)\n",
    "fit_and_evaluate(agg, dataset, name=\"Agglomerative clustering\\nwith sentence embedding vectors\") #word"
   ]
  },
  {
   "cell_type": "markdown",
   "id": "153c66ab",
   "metadata": {},
   "source": [
    "# Clustering evaluation"
   ]
  },
  {
   "cell_type": "code",
   "execution_count": 25,
   "id": "a2470e7c",
   "metadata": {},
   "outputs": [
    {
     "data": {
      "image/png": "[encoded data removed]",
      "text/plain": [
       "<Figure size 1600x600 with 2 Axes>"
      ]
     },
     "metadata": {},
     "output_type": "display_data"
    }
   ],
   "source": [
    "import matplotlib.pyplot as plt\n",
    "import pandas as pd\n",
    "\n",
    "fig, (ax0, ax1) = plt.subplots(ncols=2, figsize=(16, 6), sharey=True)\n",
    "\n",
    "df = pd.DataFrame(evaluations[::-1]).set_index(\"estimator\")\n",
    "df_std = pd.DataFrame(evaluations_std[::-1]).set_index(\"estimator\")\n",
    "\n",
    "df.drop(\n",
    "    [\"train_time\"],\n",
    "    axis=\"columns\",\n",
    ").plot.barh(ax=ax0, xerr=df_std)\n",
    "ax0.set_xlabel(\"Clustering scores\")\n",
    "ax0.set_ylabel(\"\")\n",
    "\n",
    "df[\"train_time\"].plot.barh(ax=ax1, xerr=df_std[\"train_time\"])\n",
    "ax1.set_xlabel(\"Clustering time (s)\")\n",
    "plt.tight_layout()"
   ]
  },
  {
   "cell_type": "code",
   "execution_count": null,
   "id": "ec6b0bce",
   "metadata": {},
   "outputs": [],
   "source": []
  }
 ],
 "metadata": {
  "kernelspec": {
   "display_name": "Python 3 (ipykernel)",
   "language": "python",
   "name": "python3"
  },
  "language_info": {
   "codemirror_mode": {
    "name": "ipython",
    "version": 3
   },
   "file_extension": ".py",
   "mimetype": "text/x-python",
   "name": "python",
   "nbconvert_exporter": "python",
   "pygments_lexer": "ipython3",
   "version": "3.11.5"
  }
 },
 "nbformat": 4,
 "nbformat_minor": 5
}
